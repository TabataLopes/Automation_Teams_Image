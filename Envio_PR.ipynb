{
 "cells": [
  {
   "cell_type": "code",
   "execution_count": 10,
   "metadata": {},
   "outputs": [
    {
     "name": "stdout",
     "output_type": "stream",
     "text": [
      "Adaptive Card com imagem do SharePoint enviado com sucesso para o webhook do Microsoft Teams.\n"
     ]
    }
   ],
   "source": [
    "import requests\n",
    "import base64\n",
    "from dotenv import load_dotenv\n",
    "import os\n",
    "\n",
    "load_dotenv()\n",
    "\n",
    "# Path da imagem no SharePoint\n",
    "image_url = os.getenv('IMG_PATH') \n",
    "\n",
    "# Lendo imagem transformando em bytes\n",
    "with open(image_url, \"rb\") as img_file:\n",
    "    img_bytes = img_file.read()\n",
    "\n",
    "# Codifica os bytes da imagem em base64\n",
    "img_base64 = base64.b64encode(img_bytes).decode('utf-8')\n",
    "\n",
    "# URL do seu webhook do Microsoft Teams\n",
    "webhook_url = os.getenv('WEBHOOK_URL')\n",
    "\n",
    "# Monta o Adaptive Card com a imagem\n",
    "adaptive_card_json = {\n",
    "    \"type\": \"message\",\n",
    "    \"attachments\": [\n",
    "        {\n",
    "            \"contentType\": \"application/vnd.microsoft.card.adaptive\",\n",
    "            \"content\": {\n",
    "                \"type\": \"AdaptiveCard\",\n",
    "                \"body\": [\n",
    "                    {\n",
    "                        \"type\": \"Image\",\n",
    "                        \"url\": f\"data:image/png;base64,{img_base64}\",\n",
    "                        \"altText\": \"Descrição da Imagem\"\n",
    "                    }\n",
    "                ],\n",
    "                \"$schema\": \"http://adaptivecards.io/schemas/adaptive-card.json\",\n",
    "                \"version\": \"1.4\"\n",
    "            }\n",
    "        }\n",
    "    ]\n",
    "}\n",
    "\n",
    "# Configura os cabeçalhos da solicitação para o Microsoft Teams\n",
    "headers = {\"Content-Type\": \"application/json\"}\n",
    "\n",
    "# Envia o Adaptive Card com a imagem para o webhook do Microsoft Teams\n",
    "response_teams = requests.post(webhook_url, json=adaptive_card_json, headers=headers, stream=True)\n",
    "\n",
    "# Verifica se a solicitação para o Microsoft Teams foi bem-sucedida\n",
    "if response_teams.status_code == 200:\n",
    "    print(\"Adaptive Card com imagem do SharePoint enviado com sucesso para o webhook do Microsoft Teams.\")\n",
    "else:\n",
    "    print(\"Falha ao enviar o Adaptive Card com imagem do SharePoint para o webhook do Microsoft Teams. Status code:\", response_teams.status_code)"
   ]
  }
 ],
 "metadata": {
  "kernelspec": {
   "display_name": "Python 3",
   "language": "python",
   "name": "python3"
  },
  "language_info": {
   "codemirror_mode": {
    "name": "ipython",
    "version": 3
   },
   "file_extension": ".py",
   "mimetype": "text/x-python",
   "name": "python",
   "nbconvert_exporter": "python",
   "pygments_lexer": "ipython3",
   "version": "0.0.0"
  }
 },
 "nbformat": 4,
 "nbformat_minor": 2
}
